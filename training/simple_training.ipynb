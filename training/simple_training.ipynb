{
 "cells": [
  {
   "cell_type": "code",
   "execution_count": 82,
   "outputs": [],
   "source": [
    "import tensorflow as tf\n",
    "from sklearn.model_selection import train_test_split\n",
    "import polars as pl\n",
    "import numpy as np\n",
    "import wandb\n",
    "from wandb.integration.keras import WandbCallback\n",
    "from sklearn.preprocessing import StandardScaler\n"
   ],
   "metadata": {
    "collapsed": false,
    "ExecuteTime": {
     "end_time": "2025-04-20T21:03:02.565033600Z",
     "start_time": "2025-04-20T21:03:02.555984Z"
    }
   },
   "id": "d481e1523250e9a4"
  },
  {
   "cell_type": "markdown",
   "source": [
    "# Read data"
   ],
   "metadata": {
    "collapsed": false
   },
   "id": "fd9c7f2cd99c6e58"
  },
  {
   "cell_type": "code",
   "execution_count": 83,
   "outputs": [],
   "source": [
    "df = pl.read_csv(\"D:\\\\PJATK_MGR\\\\bus_delay_project\\\\df_for_modelling_v2.csv\", separator=\";\", schema_overrides={\n",
    "    \"line\": pl.Utf8,\n",
    "    \"stop_id\": pl.Int16,\n",
    "    \"stop_lat\": pl.Float32,\n",
    "    \"stop_lon\": pl.Float32,\n",
    "    \"stop_seq\": pl.Int16,\n",
    "    \"arrival_hour\": pl.Int8,\n",
    "    \"delay\": pl.Int32,  \n",
    "})[:200_000]"
   ],
   "metadata": {
    "collapsed": false,
    "ExecuteTime": {
     "end_time": "2025-04-20T21:04:06.383259800Z",
     "start_time": "2025-04-20T21:03:03.789945400Z"
    }
   },
   "id": "84ecc6d1a231daca"
  },
  {
   "cell_type": "code",
   "execution_count": 84,
   "outputs": [],
   "source": [
    "def preprocess_data(_df):\n",
    "    _df = _df.drop_nulls()\n",
    "    _df = _df.filter(pl.col(\"delay\").is_between(-60*60, 60*60)) # drop extreme values\n",
    "\n",
    "    _df = _df.with_columns(\n",
    "        pl.col(\"is_weekday\").cast(pl.Int8),\n",
    "        pl.col(\"is_holiday\").cast(pl.Int8),\n",
    "    )\n",
    "\n",
    "    unique_lines = _df.select(\"line\").unique().sort(\"line\").with_row_count(name=\"line_encoded\")\n",
    "    _df = _df.join(unique_lines, on=\"line\", how=\"left\")\n",
    "\n",
    "    return _df\n",
    "\n",
    "def prepare_training_data(_df):\n",
    "    X_train_full = _df.select(selected_columns)\n",
    "    X_train_full = X_train_full.to_numpy()\n",
    "    y_train_full = _df.select([\"delay\"]).to_numpy()\n",
    "    X_train, X_valid, y_train, y_valid = train_test_split(\n",
    "    X_train_full, y_train_full, test_size=0.33, random_state=42)\n",
    "    X_valid, X_test, y_valid, y_test = train_test_split(X_valid, y_valid, test_size=0.5, random_state=42)\n",
    "    \n",
    "    print(\"NaNs in X_train:\", np.isnan(X_train).sum())\n",
    "    print(\"Infs in X_train:\", np.isinf(X_train).sum())\n",
    "    print(\"NaNs in y_train:\", np.isnan(y_train).sum())\n",
    "    print(\"Infs in y_train:\", np.isinf(y_train).sum())\n",
    "    print(\"Delay extreme values:\", df[\"delay\"].min(), df[\"delay\"].max())\n",
    "    \n",
    "    print(X_train.shape, y_train.shape, X_valid.shape, y_valid.shape)\n",
    "    scaler = StandardScaler()\n",
    "    X_train = scaler.fit_transform(X_train)\n",
    "    X_valid = scaler.transform(X_valid)\n",
    "    X_test = scaler.transform(X_test)\n",
    "    return X_train, y_train, X_valid, y_valid, X_test, y_test\n",
    "    "
   ],
   "metadata": {
    "collapsed": false,
    "ExecuteTime": {
     "end_time": "2025-04-20T21:04:06.574181800Z",
     "start_time": "2025-04-20T21:04:06.450195100Z"
    }
   },
   "id": "a1e47276cfb7998e"
  },
  {
   "cell_type": "code",
   "execution_count": 85,
   "outputs": [],
   "source": [
    "selected_columns = [\n",
    "     \"is_weekday\",\n",
    "    \"arrival_hour\",\n",
    "    \"is_holiday\",\n",
    "    \"stop_lat\",\n",
    "    \"stop_lon\",\n",
    "    \"line_encoded\",\n",
    "    \"stop_seq\",\n",
    "    \"detection_type\",\n",
    "]"
   ],
   "metadata": {
    "collapsed": false,
    "ExecuteTime": {
     "end_time": "2025-04-20T21:04:06.592509800Z",
     "start_time": "2025-04-20T21:04:06.591504Z"
    }
   },
   "id": "9d9599a95514a9d2"
  },
  {
   "cell_type": "markdown",
   "source": [
    "# Preprocess data"
   ],
   "metadata": {
    "collapsed": false
   },
   "id": "5e84531f59f1016b"
  },
  {
   "cell_type": "code",
   "execution_count": 86,
   "outputs": [
    {
     "name": "stderr",
     "output_type": "stream",
     "text": [
      "C:\\Users\\48514\\AppData\\Local\\Temp\\ipykernel_7684\\2585801925.py:10: DeprecationWarning: `DataFrame.with_row_count` is deprecated. Use `with_row_index` instead. Note that the default column name has changed from 'row_nr' to 'index'.\n",
      "  unique_lines = _df.select(\"line\").unique().sort(\"line\").with_row_count(name=\"line_encoded\")\n"
     ]
    },
    {
     "name": "stdout",
     "output_type": "stream",
     "text": [
      "NaNs in X_train: 0\n",
      "Infs in X_train: 0\n",
      "NaNs in y_train: 0\n",
      "Infs in y_train: 0\n",
      "Delay extreme values: -477 3420\n",
      "(108170, 8) (108170, 1) (26639, 8) (26639, 1)\n"
     ]
    }
   ],
   "source": [
    "df = preprocess_data(df)\n",
    "X_train, y_train, X_valid, y_valid, X_test, y_test = prepare_training_data(df)"
   ],
   "metadata": {
    "collapsed": false,
    "ExecuteTime": {
     "end_time": "2025-04-20T21:04:08.416638Z",
     "start_time": "2025-04-20T21:04:06.600509Z"
    }
   },
   "id": "ed281f7b145b0d79"
  },
  {
   "cell_type": "markdown",
   "source": [
    "# Initialize Run"
   ],
   "metadata": {
    "collapsed": false
   },
   "id": "c9a9e29aac700c95"
  },
  {
   "cell_type": "code",
   "execution_count": 87,
   "outputs": [
    {
     "data": {
      "text/plain": "<IPython.core.display.HTML object>",
      "text/html": ""
     },
     "metadata": {},
     "output_type": "display_data"
    },
    {
     "data": {
      "text/plain": "<IPython.core.display.HTML object>",
      "text/html": "<br>    <style><br>        .wandb-row {<br>            display: flex;<br>            flex-direction: row;<br>            flex-wrap: wrap;<br>            justify-content: flex-start;<br>            width: 100%;<br>        }<br>        .wandb-col {<br>            display: flex;<br>            flex-direction: column;<br>            flex-basis: 100%;<br>            flex: 1;<br>            padding: 10px;<br>        }<br>    </style><br><div class=\"wandb-row\"><div class=\"wandb-col\"><h3>Run history:</h3><br/><table class=\"wandb\"><tr><td>epoch</td><td>▁▂▃▄▅▅▆▇█</td></tr></table><br/></div><div class=\"wandb-col\"><h3>Run summary:</h3><br/><table class=\"wandb\"><tr><td>epoch</td><td>8</td></tr><tr><td>loss</td><td>nan</td></tr><tr><td>rmse</td><td>nan</td></tr><tr><td>val_loss</td><td>nan</td></tr><tr><td>val_rmse</td><td>nan</td></tr></table><br/></div></div>"
     },
     "metadata": {},
     "output_type": "display_data"
    },
    {
     "data": {
      "text/plain": "<IPython.core.display.HTML object>",
      "text/html": " View run <strong style=\"color:#cdcd00\">daily-fire-8</strong> at: <a href='https://wandb.ai/dsc-pjatk-warsaw/bus-punctuality/runs/shmqsisd' target=\"_blank\">https://wandb.ai/dsc-pjatk-warsaw/bus-punctuality/runs/shmqsisd</a><br> View project at: <a href='https://wandb.ai/dsc-pjatk-warsaw/bus-punctuality' target=\"_blank\">https://wandb.ai/dsc-pjatk-warsaw/bus-punctuality</a><br>Synced 5 W&B file(s), 1 media file(s), 0 artifact file(s) and 0 other file(s)"
     },
     "metadata": {},
     "output_type": "display_data"
    },
    {
     "data": {
      "text/plain": "<IPython.core.display.HTML object>",
      "text/html": "Find logs at: <code>.\\wandb\\run-20250420_223843-shmqsisd\\logs</code>"
     },
     "metadata": {},
     "output_type": "display_data"
    },
    {
     "data": {
      "text/plain": "<IPython.core.display.HTML object>",
      "text/html": "Tracking run with wandb version 0.19.9"
     },
     "metadata": {},
     "output_type": "display_data"
    },
    {
     "data": {
      "text/plain": "<IPython.core.display.HTML object>",
      "text/html": "Run data is saved locally in <code>D:\\PROJEKTY\\BusPunctuality\\training\\wandb\\run-20250420_230841-mkq2ttc1</code>"
     },
     "metadata": {},
     "output_type": "display_data"
    },
    {
     "data": {
      "text/plain": "<IPython.core.display.HTML object>",
      "text/html": "Syncing run <strong><a href='https://wandb.ai/dsc-pjatk-warsaw/bus-punctuality/runs/mkq2ttc1' target=\"_blank\">vivid-pyramid-9</a></strong> to <a href='https://wandb.ai/dsc-pjatk-warsaw/bus-punctuality' target=\"_blank\">Weights & Biases</a> (<a href='https://wandb.me/developer-guide' target=\"_blank\">docs</a>)<br>"
     },
     "metadata": {},
     "output_type": "display_data"
    },
    {
     "data": {
      "text/plain": "<IPython.core.display.HTML object>",
      "text/html": " View project at <a href='https://wandb.ai/dsc-pjatk-warsaw/bus-punctuality' target=\"_blank\">https://wandb.ai/dsc-pjatk-warsaw/bus-punctuality</a>"
     },
     "metadata": {},
     "output_type": "display_data"
    },
    {
     "data": {
      "text/plain": "<IPython.core.display.HTML object>",
      "text/html": " View run at <a href='https://wandb.ai/dsc-pjatk-warsaw/bus-punctuality/runs/mkq2ttc1' target=\"_blank\">https://wandb.ai/dsc-pjatk-warsaw/bus-punctuality/runs/mkq2ttc1</a>"
     },
     "metadata": {},
     "output_type": "display_data"
    }
   ],
   "source": [
    "run = wandb.init(\n",
    "    # Set the wandb entity where your project will be logged (generally your team name).\n",
    "    entity=\"dsc-pjatk-warsaw\",\n",
    "    # Set the wandb project where this run will be logged.\n",
    "    project=\"bus-punctuality\",\n",
    "    # Track hyperparameters and run metadata.\n",
    "    config={\n",
    "        \"learning_rate\": 0.005,\n",
    "        \"architecture\": \"2 Layer NN with 32 neurons each\",\n",
    "        \"epochs\": 15,\n",
    "        \"optimizer\": \"SGD\",\n",
    "        \"train_size\": X_train.shape[0],\n",
    "    },\n",
    ")"
   ],
   "metadata": {
    "collapsed": false,
    "ExecuteTime": {
     "end_time": "2025-04-20T21:08:45.519885100Z",
     "start_time": "2025-04-20T21:08:41.918182100Z"
    }
   },
   "id": "initial_id"
  },
  {
   "cell_type": "markdown",
   "source": [
    "# Define model"
   ],
   "metadata": {
    "collapsed": false
   },
   "id": "8fa3a44ed11002cb"
  },
  {
   "cell_type": "code",
   "execution_count": 88,
   "outputs": [
    {
     "name": "stdout",
     "output_type": "stream",
     "text": [
      "Model: \"sequential_22\"\n",
      "_________________________________________________________________\n",
      " Layer (type)                Output Shape              Param #   \n",
      "=================================================================\n",
      " dense_66 (Dense)            (None, 32)                288       \n",
      "                                                                 \n",
      " dense_67 (Dense)            (None, 32)                1056      \n",
      "                                                                 \n",
      " dense_68 (Dense)            (None, 1)                 33        \n",
      "                                                                 \n",
      "=================================================================\n",
      "Total params: 1,377\n",
      "Trainable params: 1,377\n",
      "Non-trainable params: 0\n",
      "_________________________________________________________________\n",
      "None\n"
     ]
    }
   ],
   "source": [
    "model = tf.keras.Sequential([\n",
    "    tf.keras.layers.Input(shape=(X_train.shape[1],)),\n",
    "    tf.keras.layers.Dense(32, activation=\"relu\"),\n",
    "    tf.keras.layers.Dense(32, activation=\"relu\"),\n",
    "    tf.keras.layers.Dense(1)\n",
    "])\n",
    "\n",
    "model.compile(optimizer=tf.keras.optimizers.SGD(learning_rate=0.005),\n",
    "              loss=\"mse\",\n",
    "              metrics=[tf.keras.metrics.RootMeanSquaredError(name='rmse')]\n",
    "              )\n",
    "\n",
    "\n",
    "print(model.summary())\n"
   ],
   "metadata": {
    "collapsed": false,
    "ExecuteTime": {
     "end_time": "2025-04-20T21:08:45.844963600Z",
     "start_time": "2025-04-20T21:08:45.539727700Z"
    }
   },
   "id": "6b93a498bd2ee30c"
  },
  {
   "cell_type": "markdown",
   "source": [
    "# Log mapping to wandb"
   ],
   "metadata": {
    "collapsed": false
   },
   "id": "f595be82747d6924"
  },
  {
   "cell_type": "code",
   "execution_count": 89,
   "outputs": [],
   "source": [
    "import pandas as pd\n",
    "\n",
    "pd.read_csv('line_mapping.csv')\n",
    "\n",
    "wandb.log({\"line_mapping\": wandb.Table(dataframe=pd.read_csv('line_mapping.csv'))})"
   ],
   "metadata": {
    "collapsed": false,
    "ExecuteTime": {
     "end_time": "2025-04-20T21:08:48.995878Z",
     "start_time": "2025-04-20T21:08:48.094723100Z"
    }
   },
   "id": "b65a28261cdaa9f"
  },
  {
   "cell_type": "markdown",
   "source": [
    "# Train model"
   ],
   "metadata": {
    "collapsed": false
   },
   "id": "9e7fbc0232c53311"
  },
  {
   "cell_type": "code",
   "execution_count": 90,
   "outputs": [
    {
     "name": "stdout",
     "output_type": "stream",
     "text": [
      "Epoch 1/15\n",
      "   1/3381 [..............................] - ETA: 31:27 - loss: 9842.6953 - rmse: 99.2104WARNING:tensorflow:Callback method `on_train_batch_end` is slow compared to the batch time (batch time: 0.0032s vs `on_train_batch_end` time: 0.0146s). Check your callbacks.\n",
      "3371/3381 [============================>.] - ETA: 0s - loss: 3857787179145101312.0000 - rmse: 1964125056.0000INFO:tensorflow:Assets written to: D:\\PROJEKTY\\BusPunctuality\\training\\wandb\\run-20250420_230841-mkq2ttc1\\files\\model-best\\assets\n"
     ]
    },
    {
     "name": "stderr",
     "output_type": "stream",
     "text": [
      "\u001B[34m\u001B[1mwandb\u001B[0m: Adding directory to artifact (D:\\PROJEKTY\\BusPunctuality\\training\\wandb\\run-20250420_230841-mkq2ttc1\\files\\model-best)... Done. 0.0s\n"
     ]
    },
    {
     "name": "stdout",
     "output_type": "stream",
     "text": [
      "3381/3381 [==============================] - 12s 3ms/step - loss: 3847159299751018496.0000 - rmse: 1961417728.0000 - val_loss: 19254.5879 - val_rmse: 138.7609\n",
      "Epoch 2/15\n",
      "3381/3381 [==============================] - 13s 4ms/step - loss: 20258.1680 - rmse: 142.3312 - val_loss: 19255.5254 - val_rmse: 138.7643\n",
      "Epoch 3/15\n",
      "3377/3381 [============================>.] - ETA: 0s - loss: 20263.9785 - rmse: 142.3516INFO:tensorflow:Assets written to: D:\\PROJEKTY\\BusPunctuality\\training\\wandb\\run-20250420_230841-mkq2ttc1\\files\\model-best\\assets\n"
     ]
    },
    {
     "name": "stderr",
     "output_type": "stream",
     "text": [
      "\u001B[34m\u001B[1mwandb\u001B[0m: Adding directory to artifact (D:\\PROJEKTY\\BusPunctuality\\training\\wandb\\run-20250420_230841-mkq2ttc1\\files\\model-best)... Done. 0.1s\n"
     ]
    },
    {
     "name": "stdout",
     "output_type": "stream",
     "text": [
      "3381/3381 [==============================] - 12s 3ms/step - loss: 20257.4023 - rmse: 142.3285 - val_loss: 19253.9609 - val_rmse: 138.7586\n",
      "Epoch 4/15\n",
      "3381/3381 [==============================] - 11s 3ms/step - loss: 20255.1406 - rmse: 142.3206 - val_loss: 19267.1992 - val_rmse: 138.8063\n",
      "Epoch 5/15\n",
      "3381/3381 [==============================] - 11s 3ms/step - loss: 20256.7754 - rmse: 142.3263 - val_loss: 19261.9180 - val_rmse: 138.7873\n",
      "Epoch 6/15\n",
      "3364/3381 [============================>.] - ETA: 0s - loss: 20207.5723 - rmse: 142.1533INFO:tensorflow:Assets written to: D:\\PROJEKTY\\BusPunctuality\\training\\wandb\\run-20250420_230841-mkq2ttc1\\files\\model-best\\assets\n"
     ]
    },
    {
     "name": "stderr",
     "output_type": "stream",
     "text": [
      "\u001B[34m\u001B[1mwandb\u001B[0m: Adding directory to artifact (D:\\PROJEKTY\\BusPunctuality\\training\\wandb\\run-20250420_230841-mkq2ttc1\\files\\model-best)... Done. 0.0s\n"
     ]
    },
    {
     "name": "stdout",
     "output_type": "stream",
     "text": [
      "3381/3381 [==============================] - 11s 3ms/step - loss: 20256.8164 - rmse: 142.3264 - val_loss: 19253.7520 - val_rmse: 138.7579\n",
      "Epoch 7/15\n",
      "3381/3381 [==============================] - 10s 3ms/step - loss: 20256.4277 - rmse: 142.3251 - val_loss: 19253.9453 - val_rmse: 138.7586\n",
      "Epoch 8/15\n",
      "3381/3381 [==============================] - 10s 3ms/step - loss: 20258.2051 - rmse: 142.3313 - val_loss: 19253.9160 - val_rmse: 138.7585\n",
      "Epoch 9/15\n",
      "3381/3381 [==============================] - 10s 3ms/step - loss: 20257.3477 - rmse: 142.3283 - val_loss: 19254.8516 - val_rmse: 138.7618\n",
      "Epoch 10/15\n",
      "3372/3381 [============================>.] - ETA: 0s - loss: 20270.0742 - rmse: 142.3730INFO:tensorflow:Assets written to: D:\\PROJEKTY\\BusPunctuality\\training\\wandb\\run-20250420_230841-mkq2ttc1\\files\\model-best\\assets\n"
     ]
    },
    {
     "name": "stderr",
     "output_type": "stream",
     "text": [
      "\u001B[34m\u001B[1mwandb\u001B[0m: Adding directory to artifact (D:\\PROJEKTY\\BusPunctuality\\training\\wandb\\run-20250420_230841-mkq2ttc1\\files\\model-best)... Done. 0.0s\n"
     ]
    },
    {
     "name": "stdout",
     "output_type": "stream",
     "text": [
      "3381/3381 [==============================] - 11s 3ms/step - loss: 20258.3906 - rmse: 142.3320 - val_loss: 19253.7461 - val_rmse: 138.7579\n",
      "Epoch 11/15\n",
      "3381/3381 [==============================] - 10s 3ms/step - loss: 20257.2324 - rmse: 142.3279 - val_loss: 19253.7578 - val_rmse: 138.7579\n",
      "Epoch 12/15\n",
      "3381/3381 [==============================] - 10s 3ms/step - loss: 20255.7812 - rmse: 142.3228 - val_loss: 19264.0762 - val_rmse: 138.7951\n",
      "Epoch 13/15\n",
      "3381/3381 [==============================] - 10s 3ms/step - loss: 20258.2598 - rmse: 142.3315 - val_loss: 19254.1855 - val_rmse: 138.7594\n",
      "Epoch 14/15\n",
      "3381/3381 [==============================] - 10s 3ms/step - loss: 20257.0605 - rmse: 142.3273 - val_loss: 19261.7793 - val_rmse: 138.7868\n",
      "Epoch 15/15\n",
      "3381/3381 [==============================] - 10s 3ms/step - loss: 20257.8926 - rmse: 142.3302 - val_loss: 19257.2793 - val_rmse: 138.7706\n"
     ]
    }
   ],
   "source": [
    "history = model.fit(X_train, y_train, validation_data=(X_valid, y_valid), batch_size=32, epochs=15, callbacks=[WandbCallback()])"
   ],
   "metadata": {
    "collapsed": false,
    "ExecuteTime": {
     "end_time": "2025-04-20T21:11:30.964829700Z",
     "start_time": "2025-04-20T21:08:51.409858600Z"
    }
   },
   "id": "6846267470f84a82"
  },
  {
   "cell_type": "markdown",
   "source": [
    "# Evaluate model"
   ],
   "metadata": {
    "collapsed": false
   },
   "id": "89b72227558e9680"
  },
  {
   "cell_type": "code",
   "execution_count": 91,
   "outputs": [
    {
     "name": "stdout",
     "output_type": "stream",
     "text": [
      "833/833 - 2s - loss: 18136.7910 - rmse: 134.6729 - 2s/epoch - 2ms/step\n",
      "Test loss: 18136.791015625\n",
      "Test mse: 134.67291259765625\n"
     ]
    }
   ],
   "source": [
    "# evaluate model on test set\n",
    "test_loss, test_mse = model.evaluate(X_test, y_test, verbose=2)\n",
    "print(f\"Test loss: {test_loss}\")\n",
    "print(f\"Test mse: {test_mse}\")\n",
    "# log to wandb\n",
    "wandb.log({\"test_loss\": test_loss, \"test_mse\": test_mse})"
   ],
   "metadata": {
    "collapsed": false,
    "ExecuteTime": {
     "end_time": "2025-04-20T21:15:07.411938Z",
     "start_time": "2025-04-20T21:15:05.753131500Z"
    }
   },
   "id": "58f49a5630a60a7e"
  },
  {
   "cell_type": "code",
   "execution_count": 92,
   "outputs": [
    {
     "data": {
      "text/plain": "<IPython.core.display.HTML object>",
      "text/html": ""
     },
     "metadata": {},
     "output_type": "display_data"
    },
    {
     "data": {
      "text/plain": "<IPython.core.display.HTML object>",
      "text/html": "<br>    <style><br>        .wandb-row {<br>            display: flex;<br>            flex-direction: row;<br>            flex-wrap: wrap;<br>            justify-content: flex-start;<br>            width: 100%;<br>        }<br>        .wandb-col {<br>            display: flex;<br>            flex-direction: column;<br>            flex-basis: 100%;<br>            flex: 1;<br>            padding: 10px;<br>        }<br>    </style><br><div class=\"wandb-row\"><div class=\"wandb-col\"><h3>Run history:</h3><br/><table class=\"wandb\"><tr><td>epoch</td><td>▁▁▂▃▃▃▄▅▅▅▆▇▇▇█</td></tr><tr><td>loss</td><td>█▁▁▁▁▁▁▁▁▁▁▁▁▁▁</td></tr><tr><td>rmse</td><td>█▁▁▁▁▁▁▁▁▁▁▁▁▁▁</td></tr><tr><td>test_loss</td><td>▁</td></tr><tr><td>test_mse</td><td>▁</td></tr><tr><td>val_loss</td><td>▁▂▁█▅▁▁▁▂▁▁▆▁▅▃</td></tr><tr><td>val_rmse</td><td>▁▂▁█▅▁▁▁▂▁▁▆▁▅▃</td></tr></table><br/></div><div class=\"wandb-col\"><h3>Run summary:</h3><br/><table class=\"wandb\"><tr><td>best_epoch</td><td>9</td></tr><tr><td>best_val_loss</td><td>19253.74609</td></tr><tr><td>epoch</td><td>14</td></tr><tr><td>loss</td><td>20257.89258</td></tr><tr><td>rmse</td><td>142.33022</td></tr><tr><td>test_loss</td><td>18136.79102</td></tr><tr><td>test_mse</td><td>134.67291</td></tr><tr><td>val_loss</td><td>19257.2793</td></tr><tr><td>val_rmse</td><td>138.7706</td></tr></table><br/></div></div>"
     },
     "metadata": {},
     "output_type": "display_data"
    },
    {
     "data": {
      "text/plain": "<IPython.core.display.HTML object>",
      "text/html": " View run <strong style=\"color:#cdcd00\">vivid-pyramid-9</strong> at: <a href='https://wandb.ai/dsc-pjatk-warsaw/bus-punctuality/runs/mkq2ttc1' target=\"_blank\">https://wandb.ai/dsc-pjatk-warsaw/bus-punctuality/runs/mkq2ttc1</a><br> View project at: <a href='https://wandb.ai/dsc-pjatk-warsaw/bus-punctuality' target=\"_blank\">https://wandb.ai/dsc-pjatk-warsaw/bus-punctuality</a><br>Synced 5 W&B file(s), 2 media file(s), 19 artifact file(s) and 0 other file(s)"
     },
     "metadata": {},
     "output_type": "display_data"
    },
    {
     "data": {
      "text/plain": "<IPython.core.display.HTML object>",
      "text/html": "Find logs at: <code>.\\wandb\\run-20250420_230841-mkq2ttc1\\logs</code>"
     },
     "metadata": {},
     "output_type": "display_data"
    }
   ],
   "source": [
    "run.finish()"
   ],
   "metadata": {
    "collapsed": false,
    "ExecuteTime": {
     "end_time": "2025-04-20T21:15:11.205164700Z",
     "start_time": "2025-04-20T21:15:09.860200600Z"
    }
   },
   "id": "a946cd228ef6213c"
  }
 ],
 "metadata": {
  "kernelspec": {
   "display_name": "Python 3",
   "language": "python",
   "name": "python3"
  },
  "language_info": {
   "codemirror_mode": {
    "name": "ipython",
    "version": 2
   },
   "file_extension": ".py",
   "mimetype": "text/x-python",
   "name": "python",
   "nbconvert_exporter": "python",
   "pygments_lexer": "ipython2",
   "version": "2.7.6"
  }
 },
 "nbformat": 4,
 "nbformat_minor": 5
}
